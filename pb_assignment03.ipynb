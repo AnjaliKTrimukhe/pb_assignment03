{
 "cells": [
  {
   "cell_type": "raw",
   "id": "e4c9d743",
   "metadata": {},
   "source": [
    "1. Why are functions advantageous to have in your programs?\n",
    "Ans:\n",
    "Functions reduce the need for duplicate code. This makes programs shorter, easier to read, and easier to update."
   ]
  },
  {
   "cell_type": "raw",
   "id": "4ae4a8f1",
   "metadata": {},
   "source": [
    "2. When does the code in a function run: when it's specified or when it's called?\n",
    "Ans:\n",
    "The code in a function executes when the function is called, not when the function is defined."
   ]
  },
  {
   "cell_type": "raw",
   "id": "4a9a94c3",
   "metadata": {},
   "source": [
    "3. What statement creates a function?\n",
    "Ans:\n",
    "The def statement defines (that is, creates) a function."
   ]
  },
  {
   "cell_type": "raw",
   "id": "38ef9fea",
   "metadata": {},
   "source": [
    "4. What is the difference between a function and a function call?\n",
    "Ans:\n",
    "A function consists of the def statement and the code in its def clause.\n",
    "\n",
    "A function call is what moves the program execution into the function, and the function call evaluates to the function's return value."
   ]
  },
  {
   "cell_type": "raw",
   "id": "c704f153",
   "metadata": {},
   "source": [
    "5. How many global scopes are there in a Python program? How many local scopes?\n",
    "Ans:\n",
    "There is one global scope, and a local scope is created whenever a function is called."
   ]
  },
  {
   "cell_type": "raw",
   "id": "acbad62b",
   "metadata": {},
   "source": [
    "6. What happens to variables in a local scope when the function call returns?\n",
    "Ans:\n",
    "When a function returns, the local scope is destroyed, and all the variables in it are forgotten."
   ]
  },
  {
   "cell_type": "raw",
   "id": "f4e89211",
   "metadata": {},
   "source": [
    "7. What is the concept of a return value? Is it possible to have a return value in an expression?\n",
    "Ans:\n",
    "A return value is the value that a function call evaluates to. Like any value, a return value can be used as part of an expression."
   ]
  },
  {
   "cell_type": "raw",
   "id": "19f2d11c",
   "metadata": {},
   "source": [
    "8. If a function does not have a return statement, what is the return value of a call to that function?\n",
    "Ans:\n",
    "If there is no return statement for a function, its return value is None."
   ]
  },
  {
   "cell_type": "raw",
   "id": "25f7d978",
   "metadata": {},
   "source": [
    "9. How do you make a function variable refer to the global variable?\n",
    "Ans:\n",
    "A global statement will force a variable in a function to refer to the global variable."
   ]
  },
  {
   "cell_type": "raw",
   "id": "b7014f79",
   "metadata": {},
   "source": [
    "10. What is the data type of None?\n",
    "Ans:\n",
    "The data type of None is NoneType."
   ]
  },
  {
   "cell_type": "raw",
   "id": "a7a76eee",
   "metadata": {},
   "source": [
    "11. What does the sentence import areallyourpetsnamederic do?\n",
    "Ans:\n",
    "This import statement imports a module named areallyourpetsnamederic.   "
   ]
  },
  {
   "cell_type": "raw",
   "id": "8a100580",
   "metadata": {},
   "source": [
    "12. If you had a bacon() feature in a spam module, what would you call it after importing spam?\n",
    "Ans:\n",
    "This function can be called with spam.bacon().    "
   ]
  },
  {
   "cell_type": "raw",
   "id": "030a33d1",
   "metadata": {},
   "source": [
    "13. What can you do to save a programme from crashing if it encounters an error?\n",
    "Ans:\n",
    "Place the line of code that might cause an error in a try clause.    "
   ]
  },
  {
   "cell_type": "raw",
   "id": "108581a6",
   "metadata": {},
   "source": [
    "14. What is the purpose of the try clause? What is the purpose of the except clause?\n",
    "Ans:\n",
    "Try clause:\n",
    "The code that could potentially cause an error goes in the try clause.\n",
    "\n",
    "Except clause:\n",
    "The code that executes if an error happens goes in the except clause.\n"
   ]
  }
 ],
 "metadata": {
  "kernelspec": {
   "display_name": "Python 3 (ipykernel)",
   "language": "python",
   "name": "python3"
  },
  "language_info": {
   "codemirror_mode": {
    "name": "ipython",
    "version": 3
   },
   "file_extension": ".py",
   "mimetype": "text/x-python",
   "name": "python",
   "nbconvert_exporter": "python",
   "pygments_lexer": "ipython3",
   "version": "3.9.7"
  }
 },
 "nbformat": 4,
 "nbformat_minor": 5
}
